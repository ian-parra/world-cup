{
 "cells": [
  {
   "cell_type": "code",
   "execution_count": 5,
   "id": "e4321df1",
   "metadata": {},
   "outputs": [],
   "source": [
    "import pandas as pd\n",
    "import pickle\n",
    "from scipy.stats import poisson\n"
   ]
  },
  {
   "cell_type": "code",
   "execution_count": 7,
   "id": "82a50600",
   "metadata": {},
   "outputs": [],
   "source": [
    "dict_table = pickle.load(open('data/dict_table','rb'))\n",
    "df_historical_data = pd.read_csv('data/clean_fifa_worldcup_matches.csv')\n",
    "df_fixture = pd.read_csv('data/clean_fifa_worldcup_fixture.csv')"
   ]
  },
  {
   "cell_type": "markdown",
   "id": "5ed18038",
   "metadata": {},
   "source": [
    "# 1 calcular potencial de la selección"
   ]
  },
  {
   "cell_type": "code",
   "execution_count": null,
   "id": "17a3f429",
   "metadata": {},
   "outputs": [],
   "source": [
    "#dividir el df en df_home y df_away\n",
    "df_home = df_historical_data[['HomeTeam', 'HomeGoals', 'AwayGoals']]\n",
    "df_away = df_historical_data[['AwayTeam', 'HomeGoals', 'AwayGoals']]\n"
   ]
  },
  {
   "cell_type": "code",
   "execution_count": 23,
   "id": "5c4c35d5",
   "metadata": {},
   "outputs": [],
   "source": [
    "#renombro las columnas con scoreGoals y conceded, tambien creo Team\n",
    "df_home = df_home.rename(columns={'HomeTeam':'Team', 'HomeGoals': 'GoalsScored', 'AwayGoals': 'GoalsConceded'})\n",
    "df_away = df_away.rename(columns={'AwayTeam':'Team', 'HomeGoals': 'GoalsConceded', 'AwayGoals': 'GoalsScored'})"
   ]
  },
  {
   "cell_type": "code",
   "execution_count": 26,
   "id": "c05b6b6a",
   "metadata": {
    "scrolled": false
   },
   "outputs": [
    {
     "data": {
      "text/html": [
       "<div>\n",
       "<style scoped>\n",
       "    .dataframe tbody tr th:only-of-type {\n",
       "        vertical-align: middle;\n",
       "    }\n",
       "\n",
       "    .dataframe tbody tr th {\n",
       "        vertical-align: top;\n",
       "    }\n",
       "\n",
       "    .dataframe thead th {\n",
       "        text-align: right;\n",
       "    }\n",
       "</style>\n",
       "<table border=\"1\" class=\"dataframe\">\n",
       "  <thead>\n",
       "    <tr style=\"text-align: right;\">\n",
       "      <th></th>\n",
       "      <th>GoalsScored</th>\n",
       "      <th>GoalsConceded</th>\n",
       "    </tr>\n",
       "    <tr>\n",
       "      <th>Team</th>\n",
       "      <th></th>\n",
       "      <th></th>\n",
       "    </tr>\n",
       "  </thead>\n",
       "  <tbody>\n",
       "    <tr>\n",
       "      <th>Algeria</th>\n",
       "      <td>1.000000</td>\n",
       "      <td>1.285714</td>\n",
       "    </tr>\n",
       "    <tr>\n",
       "      <th>Argentina</th>\n",
       "      <td>1.652174</td>\n",
       "      <td>1.326087</td>\n",
       "    </tr>\n",
       "    <tr>\n",
       "      <th>Australia</th>\n",
       "      <td>0.800000</td>\n",
       "      <td>2.100000</td>\n",
       "    </tr>\n",
       "    <tr>\n",
       "      <th>Austria</th>\n",
       "      <td>2.166667</td>\n",
       "      <td>2.166667</td>\n",
       "    </tr>\n",
       "    <tr>\n",
       "      <th>Belgium</th>\n",
       "      <td>1.560000</td>\n",
       "      <td>1.800000</td>\n",
       "    </tr>\n",
       "    <tr>\n",
       "      <th>...</th>\n",
       "      <td>...</td>\n",
       "      <td>...</td>\n",
       "    </tr>\n",
       "    <tr>\n",
       "      <th>United States</th>\n",
       "      <td>1.333333</td>\n",
       "      <td>1.888889</td>\n",
       "    </tr>\n",
       "    <tr>\n",
       "      <th>Uruguay</th>\n",
       "      <td>1.853659</td>\n",
       "      <td>1.268293</td>\n",
       "    </tr>\n",
       "    <tr>\n",
       "      <th>Wales</th>\n",
       "      <td>0.800000</td>\n",
       "      <td>0.800000</td>\n",
       "    </tr>\n",
       "    <tr>\n",
       "      <th>West Germany</th>\n",
       "      <td>2.194444</td>\n",
       "      <td>1.500000</td>\n",
       "    </tr>\n",
       "    <tr>\n",
       "      <th>Yugoslavia</th>\n",
       "      <td>1.666667</td>\n",
       "      <td>1.333333</td>\n",
       "    </tr>\n",
       "  </tbody>\n",
       "</table>\n",
       "<p>69 rows × 2 columns</p>\n",
       "</div>"
      ],
      "text/plain": [
       "               GoalsScored  GoalsConceded\n",
       "Team                                     \n",
       "Algeria           1.000000       1.285714\n",
       "Argentina         1.652174       1.326087\n",
       "Australia         0.800000       2.100000\n",
       "Austria           2.166667       2.166667\n",
       "Belgium           1.560000       1.800000\n",
       "...                    ...            ...\n",
       "United States     1.333333       1.888889\n",
       "Uruguay           1.853659       1.268293\n",
       "Wales             0.800000       0.800000\n",
       "West Germany      2.194444       1.500000\n",
       "Yugoslavia        1.666667       1.333333\n",
       "\n",
       "[69 rows x 2 columns]"
      ]
     },
     "execution_count": 26,
     "metadata": {},
     "output_type": "execute_result"
    }
   ],
   "source": [
    "#concateno df home y df away , hago group por team y calculo el promedio\n",
    "df_team_strength = pd.concat([df_home, df_away], ignore_index=True).groupby(['Team']).mean()\n",
    "df_team_strength"
   ]
  },
  {
   "cell_type": "markdown",
   "id": "5ce21441",
   "metadata": {},
   "source": [
    "# 2 Funcion de Predicción"
   ]
  },
  {
   "cell_type": "code",
   "execution_count": null,
   "id": "b501fd6f",
   "metadata": {},
   "outputs": [],
   "source": [
    "#distribucion de Poisson\n",
    "def predict_points(home, away):\n",
    "    # Verificar si los equipos están en el índice del DataFrame df_team_strength\n",
    "    if home in df_team_strength.index and away in df_team_strength.index:\n",
    "        # Calcular el parámetro lambda para el equipo local y visitante\n",
    "        lamb_home = df_team_strength.at[home, 'GoalsScored'] * df_team_strength.at[away, 'GoalsConceded']\n",
    "        lamb_away = df_team_strength.at[away, 'GoalsScored'] * df_team_strength.at[home, 'GoalsConceded']\n",
    "        \n",
    "        # Inicializar las probabilidades para el equipo local, visitante y empate\n",
    "        prob_home, prob_away, prob_draw = 0, 0, 0\n",
    "        \n",
    "        # Calcular las probabilidades de cada resultado posible (número de goles para el equipo local y visitante)\n",
    "        for x in range(0, 11):  # Número de goles para el equipo local (0 a 10)\n",
    "            for y in range(0, 11):  # Número de goles para el equipo visitante (0 a 10)\n",
    "                # Calcular la probabilidad usando la distribución de Poisson para cada resultado posible\n",
    "                p = poisson.pmf(x, lamb_home) * poisson.pmf(y, lamb_away)\n",
    "                \n",
    "                # Actualizar las probabilidades según el resultado\n",
    "                if x == y:\n",
    "                    prob_draw += p  # Empate\n",
    "                elif x > y:\n",
    "                    prob_home += p  # Victoria del equipo local\n",
    "                else:\n",
    "                    prob_away += p  # Victoria del equipo visitante\n",
    "        \n",
    "        # Calcular los puntos esperados para el equipo local y visitante\n",
    "        points_home = 3 * prob_home + prob_draw\n",
    "        points_away = 3 * prob_away + prob_draw\n",
    "        \n",
    "        # Devolver los puntos esperados para el equipo local y visitante\n",
    "        return (points_home, points_away)\n",
    "    else:\n",
    "        # Si los equipos no están en el DataFrame, devolver cero puntos para ambos equipos\n",
    "        return (0, 0)\n"
   ]
  }
 ],
 "metadata": {
  "kernelspec": {
   "display_name": "Python 3 (ipykernel)",
   "language": "python",
   "name": "python3"
  },
  "language_info": {
   "codemirror_mode": {
    "name": "ipython",
    "version": 3
   },
   "file_extension": ".py",
   "mimetype": "text/x-python",
   "name": "python",
   "nbconvert_exporter": "python",
   "pygments_lexer": "ipython3",
   "version": "3.11.3"
  }
 },
 "nbformat": 4,
 "nbformat_minor": 5
}
